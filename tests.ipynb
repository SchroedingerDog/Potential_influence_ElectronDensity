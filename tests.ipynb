{
 "cells": [
  {
   "cell_type": "code",
   "execution_count": 11,
   "metadata": {},
   "outputs": [
    {
     "name": "stdout",
     "output_type": "stream",
     "text": [
      ">> The hardware running is cuda:0.\n",
      "[-5.         -3.88888889 -2.77777778 -1.66666667 -0.55555556  0.55555556\n",
      "  1.66666667  2.77777778  3.88888889  5.        ]\n",
      "tensor([-5.0000, -3.8889, -2.7778, -1.6667, -0.5556,  0.5556,  1.6667,  2.7778,\n",
      "         3.8889,  5.0000])\n"
     ]
    }
   ],
   "source": [
    "import numpy as np\n",
    "import torch \n",
    "from torch import tensor\n",
    "dev = torch.device(\"cuda:0\" if torch.cuda.is_available() else \"cpu\")\n",
    "print(f\">> The hardware running is {dev}.\")\n",
    "a = np.linspace(-5, 5, num=10)\n",
    "print(a)\n",
    "\n",
    "b = torch.linspace(start=-5, end=5, steps=10)\n",
    "print(b)"
   ]
  },
  {
   "cell_type": "code",
   "execution_count": 38,
   "metadata": {},
   "outputs": [
    {
     "name": "stdout",
     "output_type": "stream",
     "text": [
      "tensor([-5.0000e-10, -3.8889e-10, -2.7778e-10, -1.6667e-10, -5.5556e-11,\n",
      "         5.5556e-11,  1.6667e-10,  2.7778e-10,  3.8889e-10,  5.0000e-10],\n",
      "       device='cuda:0')\n"
     ]
    }
   ],
   "source": [
    "from scipy import constants as const\n",
    "lenA = const.angstrom  # 埃A\n",
    "eps0 = const.epsilon_0  # 真空电容率\n",
    "ec = const.elementary_charge  # 元电荷\n",
    "eV = const.physical_constants[\"electron volt\"][0]  # 电子伏特\n",
    "\n",
    "c = torch.linspace(start=-5*lenA, end=5*lenA, steps=10).to(dev)\n",
    "print(c)"
   ]
  },
  {
   "cell_type": "code",
   "execution_count": 20,
   "metadata": {},
   "outputs": [
    {
     "data": {
      "text/plain": [
       "tensor([[-2.,  1.,  0.,  0.],\n",
       "        [ 1., -2.,  1.,  0.],\n",
       "        [ 0.,  1., -2.,  1.],\n",
       "        [ 0.,  0.,  1., -2.]])"
      ]
     },
     "execution_count": 20,
     "metadata": {},
     "output_type": "execute_result"
    }
   ],
   "source": [
    "def Laplacian(x_step, x_num):\n",
    "    \"\"\"\n",
    "    --------------------------------------------\n",
    "    Note:\n",
    "        x_step is the duration or interval of x axis\n",
    "\n",
    "    --------------------------------------------\n",
    "    Return:\n",
    "        二阶导数的有限差分矩阵表示 \n",
    "    \"\"\"\n",
    "    D_2st = (\n",
    "        torch.diag(tensor([1] * (x_num - 1)), diagonal=1)\n",
    "        + torch.diag(tensor([1] * (x_num - 1)), diagonal=-1)\n",
    "        + torch.diag(tensor([-2] * x_num))\n",
    "    )\n",
    "    return D_2st / (x_step**2)\n",
    "\n",
    "Laplacian(1, 4)"
   ]
  },
  {
   "cell_type": "code",
   "execution_count": 21,
   "metadata": {},
   "outputs": [
    {
     "data": {
      "text/plain": [
       "array([[-2.,  1.,  0.,  0.],\n",
       "       [ 1., -2.,  1.,  0.],\n",
       "       [ 0.,  1., -2.,  1.],\n",
       "       [ 0.,  0.,  1., -2.]])"
      ]
     },
     "execution_count": 21,
     "metadata": {},
     "output_type": "execute_result"
    }
   ],
   "source": [
    "def Laplacian(x_step, x_num):\n",
    "    \"\"\"x_step is the duration or interval of x axis\"\"\"\n",
    "    D_2st = (\n",
    "        np.diag([1] * (x_num - 1), k=1)\n",
    "        + np.diag([1] * (x_num - 1), k=-1)\n",
    "        + np.diag([-2] * x_num)\n",
    "    )\n",
    "    return D_2st / (x_step**2)  # 2阶微分的差分格式\n",
    "\n",
    "Laplacian(1, 4)"
   ]
  },
  {
   "cell_type": "code",
   "execution_count": 23,
   "metadata": {},
   "outputs": [
    {
     "data": {
      "text/plain": [
       "(array([-3.61803399, -2.61803399, -0.38196601, -1.38196601]),\n",
       " array([[ 0.37174803,  0.60150096, -0.37174803, -0.60150096],\n",
       "        [-0.60150096, -0.37174803, -0.60150096, -0.37174803],\n",
       "        [ 0.60150096, -0.37174803, -0.60150096,  0.37174803],\n",
       "        [-0.37174803,  0.60150096, -0.37174803,  0.60150096]]))"
      ]
     },
     "execution_count": 23,
     "metadata": {},
     "output_type": "execute_result"
    }
   ],
   "source": [
    "mat_np = Laplacian(1, 4)\n",
    "np.linalg.eig(mat_np)"
   ]
  },
  {
   "cell_type": "code",
   "execution_count": 26,
   "metadata": {},
   "outputs": [
    {
     "name": "stdout",
     "output_type": "stream",
     "text": [
      "tensor([-3.6180, -2.6180, -1.3820, -0.3820], dtype=torch.float64)\n",
      "tensor([[ 0.3717, -0.6015, -0.6015, -0.3717],\n",
      "        [-0.6015,  0.3717, -0.3717, -0.6015],\n",
      "        [ 0.6015,  0.3717,  0.3717, -0.6015],\n",
      "        [-0.3717, -0.6015,  0.6015, -0.3717]], dtype=torch.float64)\n"
     ]
    }
   ],
   "source": [
    "w, v = torch.linalg.eigh(tensor(mat_np))\n",
    "print(w)\n",
    "print(v)\n",
    "torch.sort()"
   ]
  },
  {
   "cell_type": "code",
   "execution_count": 30,
   "metadata": {},
   "outputs": [
    {
     "data": {
      "text/plain": [
       "tensor([-2., -2., -2., -2.], dtype=torch.float64)"
      ]
     },
     "execution_count": 30,
     "metadata": {},
     "output_type": "execute_result"
    }
   ],
   "source": [
    "m = tensor(mat_np)\n",
    "m.diag()"
   ]
  },
  {
   "cell_type": "code",
   "execution_count": 34,
   "metadata": {},
   "outputs": [
    {
     "data": {
      "text/plain": [
       "tensor([-4.6142e-19, -5.9325e-19, -8.3055e-19, -1.3842e-18, -4.1527e-18,\n",
       "        -4.1527e-18, -1.3842e-18, -8.3055e-19, -5.9325e-19, -4.6142e-19],\n",
       "       device='cuda:0')"
      ]
     },
     "execution_count": 34,
     "metadata": {},
     "output_type": "execute_result"
    }
   ],
   "source": [
    "def hydrogen_potential(x):\n",
    "    \"\"\"\n",
    "    --------------------------------------------\n",
    "    Note:\n",
    "        类氢原子都是向心势 central potential\n",
    "    \"\"\"\n",
    "    return -(ec**2) / (4 * torch.pi * eps0 * torch.abs(x))\n",
    "\n",
    "xs = torch.linspace(start=-5*lenA, end=5*lenA, steps=10).to(dev)\n",
    "\n",
    "hydrogen_potential(xs)"
   ]
  },
  {
   "cell_type": "code",
   "execution_count": 36,
   "metadata": {},
   "outputs": [
    {
     "data": {
      "text/plain": [
       "array([-4.61415510e-19, -5.93248513e-19, -8.30547919e-19, -1.38424653e-18,\n",
       "       -4.15273959e-18, -4.15273959e-18, -1.38424653e-18, -8.30547919e-19,\n",
       "       -5.93248513e-19, -4.61415510e-19])"
      ]
     },
     "execution_count": 36,
     "metadata": {},
     "output_type": "execute_result"
    }
   ],
   "source": [
    "def hydrogen_potential(x):\n",
    "    \"\"\"central potential\"\"\"\n",
    "    return -(ec**2) / (4 * np.pi * eps0 * np.abs(x))\n",
    "\n",
    "xs = np.linspace(-5*lenA, 5*lenA, 10)\n",
    "hydrogen_potential(xs)"
   ]
  },
  {
   "cell_type": "code",
   "execution_count": 42,
   "metadata": {},
   "outputs": [
    {
     "data": {
      "text/plain": [
       "tensor([-0., -0.])"
      ]
     },
     "execution_count": 42,
     "metadata": {},
     "output_type": "execute_result"
    }
   ],
   "source": [
    "def double_well(x, start0=-1, start1=1, width=1, magnitude=-1):\n",
    "    \"\"\"\n",
    "    --------------------------------------------\n",
    "    Description:\n",
    "        双势阱\n",
    "    \"\"\"\n",
    "    s0 = start0 * lenA\n",
    "    s1 = start1 * lenA\n",
    "    w = width * lenA\n",
    "    m = magnitude * eV\n",
    "    if width > 0:\n",
    "        if start0 + width <= start1 or start1 + width <= start0:\n",
    "            return m * (\n",
    "                torch.heaviside(x - s0, tensor([0.5]))\n",
    "                - torch.heaviside(x - s0 - w, tensor([0.5]))\n",
    "                + torch.heaviside(x - s1, tensor([0.5]))\n",
    "                - torch.heaviside(x - s1 - w, tensor([0.5]))\n",
    "            )\n",
    "        else:\n",
    "            return \"Not double_well !\"\n",
    "    else:\n",
    "        return \"Not double_well !\"\n",
    "\n",
    "double_well(tensor([1,2]))"
   ]
  },
  {
   "cell_type": "code",
   "execution_count": 40,
   "metadata": {},
   "outputs": [
    {
     "data": {
      "text/plain": [
       "tensor([-1,  0])"
      ]
     },
     "execution_count": 40,
     "metadata": {},
     "output_type": "execute_result"
    }
   ],
   "source": [
    "tensor([1,2])-2"
   ]
  },
  {
   "cell_type": "code",
   "execution_count": null,
   "metadata": {},
   "outputs": [],
   "source": []
  }
 ],
 "metadata": {
  "kernelspec": {
   "display_name": "Python 3.10.8 64-bit",
   "language": "python",
   "name": "python3"
  },
  "language_info": {
   "codemirror_mode": {
    "name": "ipython",
    "version": 3
   },
   "file_extension": ".py",
   "mimetype": "text/x-python",
   "name": "python",
   "nbconvert_exporter": "python",
   "pygments_lexer": "ipython3",
   "version": "3.10.8"
  },
  "orig_nbformat": 4,
  "vscode": {
   "interpreter": {
    "hash": "24e29b8bc69de390031975136ffefcff788a0d6100cc5d974ee33d3d552900c9"
   }
  }
 },
 "nbformat": 4,
 "nbformat_minor": 2
}
